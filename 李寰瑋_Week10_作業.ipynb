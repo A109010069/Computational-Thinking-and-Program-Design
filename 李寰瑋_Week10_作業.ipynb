{
  "nbformat": 4,
  "nbformat_minor": 0,
  "metadata": {
    "kernelspec": {
      "display_name": "Python 3",
      "language": "python",
      "name": "python3"
    },
    "language_info": {
      "codemirror_mode": {
        "name": "ipython",
        "version": 3
      },
      "file_extension": ".py",
      "mimetype": "text/x-python",
      "name": "python",
      "nbconvert_exporter": "python",
      "pygments_lexer": "ipython3",
      "version": "3.8.5"
    },
    "colab": {
      "name": "李寰瑋-Week10-作業.ipynb",
      "provenance": [],
      "include_colab_link": true
    }
  },
  "cells": [
    {
      "cell_type": "markdown",
      "metadata": {
        "id": "view-in-github",
        "colab_type": "text"
      },
      "source": [
        "<a href=\"https://colab.research.google.com/github/A109010069/Computational-Thinking-and-Program-Design/blob/main/%E6%9D%8E%E5%AF%B0%E7%91%8B_Week10_%E4%BD%9C%E6%A5%AD.ipynb\" target=\"_parent\"><img src=\"https://colab.research.google.com/assets/colab-badge.svg\" alt=\"Open In Colab\"/></a>"
      ]
    },
    {
      "cell_type": "markdown",
      "metadata": {
        "id": "ABr7V8oVl7eu"
      },
      "source": [
        "# 基本程式設計(應用篇)"
      ]
    },
    {
      "cell_type": "markdown",
      "metadata": {
        "id": "cAe9i9VQl7e0"
      },
      "source": [
        "### 4-2 運算思維四個基石"
      ]
    },
    {
      "cell_type": "markdown",
      "metadata": {
        "id": "7JqwnARHl7e1"
      },
      "source": [
        "#### 4-2-4  問題拆解 - 打造你的聊天機器人"
      ]
    },
    {
      "cell_type": "markdown",
      "metadata": {
        "id": "NEzVzlLxl7e1"
      },
      "source": [
        "「哈囉，大家好。我叫Zyxo64，是一個聊天機器人。\n",
        "\n",
        "在嗜好與興趣方面，我很喜歡美食，也喜歡養動物。\n",
        "\n",
        "很高興有機會來到世新大學，請大家多多指教。\n",
        "\n",
        "嗨！妳好，請問大名？：Francis。\n",
        "\n",
        "Francis，很高興認識你。"
      ]
    },
    {
      "cell_type": "code",
      "metadata": {
        "id": "a4WkPWyWl7e2",
        "colab": {
          "base_uri": "https://localhost:8080/"
        },
        "outputId": "1d78f396-6a30-46b2-b50e-a83132ac9a3e"
      },
      "source": [
        "# 1.聊天機器人自我介紹\n",
        "print (\"哈囉，大家好。我叫Zyxo64，是一個聊天機器人。\")\n",
        "print (\"在嗜好與興趣方面，我很喜歡美食，也喜歡養動物。\")\n",
        "print (\"很高興有機會來到世新大學，請大家多多指教。\")\n",
        "\n",
        "# 2. 打招呼，取得對方名字\n",
        "name = input (\"嗨！妳好，請問大名？\")\n",
        "print(f\"{name}\"\"很高興認識你\")"
      ],
      "execution_count": 6,
      "outputs": [
        {
          "output_type": "stream",
          "text": [
            "哈囉，大家好。我叫Zyxo64，是一個聊天機器人。\n",
            "在嗜好與興趣方面，我很喜歡美食，也喜歡養動物。\n",
            "很高興有機會來到世新大學，請大家多多指教。\n",
            "嗨！妳好，請問大名？2\n",
            "2很高興認識你\n"
          ],
          "name": "stdout"
        }
      ]
    },
    {
      "cell_type": "markdown",
      "metadata": {
        "id": "gVWVR_myl7e2"
      },
      "source": [
        "抱歉，請問一下今年是西元2021年，那是民國幾年呢？：*110*。\n",
        "\n",
        "對！沒錯，謝謝妳！\n",
        "\n",
        "**Francis**，猜猜看我今年幾歲？ ：**18**。\n",
        "\n",
        "哇！你好聰明，我今年的確*18*。\n",
        "\n",
        "再82年我就100歲了。\n",
        "\n",
        "那時候是西元 2103年，也就是民國192年囉！"
      ]
    },
    {
      "cell_type": "code",
      "metadata": {
        "id": "XRZbBh1Wl7e2",
        "colab": {
          "base_uri": "https://localhost:8080/"
        },
        "outputId": "dc325ff8-a85d-42b9-9df6-105d55d324d8"
      },
      "source": [
        "# 3. 數學運算\n",
        "## 3-1 從使用者取得今年年份\n",
        "year = input(\"抱歉，請問一下今年是西元2021年，那是民國幾年呢？\")\n",
        "\n",
        "## 3-2 請使用者猜年齡\n",
        "age = input(\"Francis，猜猜看我今年幾歲？\")\n",
        "print (\"哇！你好聰明，我今年的確\"\"18歲\")\n",
        "\n",
        "## 3-3 計算聊天機器人滿100歲的年份\n",
        "nyear = 100 - int(age)\n",
        "print(f\"再 {nyear} 年我就100歲了。\")\n",
        "print(f\"那時候是西元{int(year) + nyear +1911}年\")\n"
      ],
      "execution_count": 9,
      "outputs": [
        {
          "output_type": "stream",
          "text": [
            "抱歉，請問一下今年是西元2021年，那是民國幾年呢？110\n",
            "Francis，猜猜看我今年幾歲？18\n",
            "哇！你好聰明，我今年的確18歲\n",
            "再 82 年我就100歲了。\n",
            "那時候是西元2103年\n"
          ],
          "name": "stdout"
        }
      ]
    },
    {
      "cell_type": "markdown",
      "metadata": {
        "id": "cMHpij5el7e3"
      },
      "source": [
        "我喜歡吃巧克力，也喜歡嘗試各種新食物。\n",
        "\n",
        "你呢？你最喜歡的食物是什麼？**:披薩**。\n",
        "\n",
        "我也喜歡 *披薩*。\n",
        "\n",
        "你多久吃一次 *披薩*？**：每天**。\n",
        "\n",
        "真有趣。不知道這樣對健康好不好。"
      ]
    },
    {
      "cell_type": "code",
      "metadata": {
        "id": "OyNN9Trkl7e3",
        "colab": {
          "base_uri": "https://localhost:8080/"
        },
        "outputId": "5377ca31-5b05-48dc-dca8-562562d9175d"
      },
      "source": [
        "# 4 興趣\n",
        "## 4-1 食物話題\n",
        "print (\"我喜歡吃巧克力，也喜歡嘗試各種新食物\")\n",
        "food = input(\"你呢？你最喜歡的食物是什麼？\")\n",
        "print (f\"我也喜歡,{food}\")\n",
        "time = input(\"你多久吃一次\")\n",
        "print(\"f{food}\")"
      ],
      "execution_count": 15,
      "outputs": [
        {
          "output_type": "stream",
          "text": [
            "我喜歡吃巧克力，也喜歡嘗試各種新食物\n",
            "你呢？你最喜歡的食物是什麼？2\n",
            "我也喜歡,2\n",
            "你多久吃一次22\n",
            "f{food}\n"
          ],
          "name": "stdout"
        }
      ]
    },
    {
      "cell_type": "markdown",
      "metadata": {
        "id": "vMK6Jrprl7e3"
      },
      "source": [
        "我最喜歡的動物是長頸鹿。你呢？ **：烏龜**。\n",
        "\n",
        "我不喜歡*烏龜*！\n",
        "\n",
        "不知道 *烏龜* 喜不喜歡吃 *披薩*？"
      ]
    },
    {
      "cell_type": "code",
      "metadata": {
        "id": "MHrFUyjrl7e4"
      },
      "source": [
        "# 4 興趣\n",
        "## 4-2 動物話題\n"
      ],
      "execution_count": null,
      "outputs": []
    },
    {
      "cell_type": "markdown",
      "metadata": {
        "id": "dDfwkE6Ol7e4"
      },
      "source": [
        "你今天的心情如何？ **：很開心**。\n",
        "\n",
        "可以告訴我你 *開心* 的原因嗎？**因為週末了！** \n",
        "\n",
        "祝你週末愉快！\n",
        "\n",
        "我喜歡跟你聊天，現在有點累了，改天再聊吧！！\n",
        "\n",
        "再見 *Francis*！"
      ]
    },
    {
      "cell_type": "code",
      "metadata": {
        "id": "T0rKFpA6l7e4"
      },
      "source": [
        "# 5. 關於心情的對話\n"
      ],
      "execution_count": null,
      "outputs": []
    },
    {
      "cell_type": "markdown",
      "metadata": {
        "id": "yws-Q7_cl7e4"
      },
      "source": [
        "我喜歡跟你聊天，現在有點累了，改天再聊吧！！\n",
        "\n",
        "再見 *Francis*！"
      ]
    },
    {
      "cell_type": "code",
      "metadata": {
        "id": "9Av7teell7e4"
      },
      "source": [
        "# 6. 道別\n"
      ],
      "execution_count": null,
      "outputs": []
    },
    {
      "cell_type": "markdown",
      "metadata": {
        "id": "-cT-h9BMl7e5"
      },
      "source": [
        "## 期末報告"
      ]
    },
    {
      "cell_type": "markdown",
      "metadata": {
        "id": "zMiquauml7e5"
      },
      "source": [
        "### 組長(學號姓名):\n",
        "\n"
      ]
    },
    {
      "cell_type": "markdown",
      "metadata": {
        "id": "hRHvSz1Ol7e5"
      },
      "source": [
        "### 組員(學號姓名):\n",
        "A109010012 李芷涵\n",
        "A109010069 李寰瑋\n",
        "A109010078 柯乃瑜\n",
        "A109010129 曾郁淇\n",
        "\n"
      ]
    },
    {
      "cell_type": "markdown",
      "metadata": {
        "id": "OMjPyEkEl7e5"
      },
      "source": [
        "### 題目:"
      ]
    },
    {
      "cell_type": "markdown",
      "metadata": {
        "id": "7Qbm6-NJl7e5"
      },
      "source": [
        "### 百字腳本\n",
        "\n"
      ]
    }
  ]
}