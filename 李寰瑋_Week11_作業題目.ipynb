{
  "nbformat": 4,
  "nbformat_minor": 0,
  "metadata": {
    "kernelspec": {
      "display_name": "Python 3",
      "language": "python",
      "name": "python3"
    },
    "language_info": {
      "codemirror_mode": {
        "name": "ipython",
        "version": 3
      },
      "file_extension": ".py",
      "mimetype": "text/x-python",
      "name": "python",
      "nbconvert_exporter": "python",
      "pygments_lexer": "ipython3",
      "version": "3.8.5"
    },
    "colab": {
      "name": "李寰瑋- Week11 -作業題目.ipynb",
      "provenance": [],
      "include_colab_link": true
    }
  },
  "cells": [
    {
      "cell_type": "markdown",
      "metadata": {
        "id": "view-in-github",
        "colab_type": "text"
      },
      "source": [
        "<a href=\"https://colab.research.google.com/github/A109010069/Computational-Thinking-and-Program-Design/blob/main/%E6%9D%8E%E5%AF%B0%E7%91%8B_Week11_%E4%BD%9C%E6%A5%AD%E9%A1%8C%E7%9B%AE.ipynb\" target=\"_parent\"><img src=\"https://colab.research.google.com/assets/colab-badge.svg\" alt=\"Open In Colab\"/></a>"
      ]
    },
    {
      "cell_type": "markdown",
      "metadata": {
        "id": "Byk6xWiNFXMi"
      },
      "source": [
        "**隨堂練習 1：請輸入身分證字號，並判斷尾數是否為奇數?** "
      ]
    },
    {
      "cell_type": "code",
      "metadata": {
        "id": "QAJrQ5ecFXNC"
      },
      "source": [
        ""
      ],
      "execution_count": null,
      "outputs": []
    },
    {
      "cell_type": "markdown",
      "metadata": {
        "id": "VOGlo20cFXNF"
      },
      "source": [
        "**回家作業**\n",
        "\n",
        "組長: \n",
        "    \n",
        "組員:\n",
        "    \n",
        "期末報告題目: \n",
        "\n",
        "\n",
        "百字腳本初稿:\n",
        "\n",
        "\n",
        "\n",
        "(Note: **用電腦解決問題，你要解決的問題就是你的題目；解決問題的方法是什麼，請設計用對話方式讓我們知道答案。**\n",
        "\n",
        "在日常生活中，所有與客服有關的事情，都可以自動化改用對話機器人處理。例如:你去銀行櫃台詢問存錢事宜，你去系辦詢問選課事宜，你去餐廳詢問點餐事宜等等。這些例子都是針對一個問題，透過你和客服互動對話後解決。將與這些真人的客服對話自動化後，就變成對話機器人。對話機器人是目前全世界最熱門的商業互動模式，也是未來世界的趨勢。)\n"
      ]
    }
  ]
}