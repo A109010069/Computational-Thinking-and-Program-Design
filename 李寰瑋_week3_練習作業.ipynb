{
  "nbformat": 4,
  "nbformat_minor": 0,
  "metadata": {
    "colab": {
      "name": "李寰瑋-week3-練習作業.ipynb",
      "provenance": [],
      "collapsed_sections": [],
      "toc_visible": true,
      "authorship_tag": "ABX9TyOjwDavk9Ix/fLzgKnsMC76",
      "include_colab_link": true
    },
    "kernelspec": {
      "name": "python3",
      "display_name": "Python 3"
    }
  },
  "cells": [
    {
      "cell_type": "markdown",
      "metadata": {
        "id": "view-in-github",
        "colab_type": "text"
      },
      "source": [
        "<a href=\"https://colab.research.google.com/github/A109010069/Computational-Thinking-and-Program-Design/blob/main/%E6%9D%8E%E5%AF%B0%E7%91%8B_week3_%E7%B7%B4%E7%BF%92%E4%BD%9C%E6%A5%AD.ipynb\" target=\"_parent\"><img src=\"https://colab.research.google.com/assets/colab-badge.svg\" alt=\"Open In Colab\"/></a>"
      ]
    },
    {
      "cell_type": "markdown",
      "metadata": {
        "id": "r5Bb8d8gN_9E"
      },
      "source": [
        "#隨堂練習"
      ]
    },
    {
      "cell_type": "markdown",
      "metadata": {
        "id": "rbz7ijyGOJUs"
      },
      "source": [
        "#####認識電腦"
      ]
    },
    {
      "cell_type": "code",
      "metadata": {
        "colab": {
          "base_uri": "https://localhost:8080/"
        },
        "id": "48SoPI3xN8cz",
        "outputId": "a6171ec8-35ac-47ce-b16f-a918da096be1"
      },
      "source": [
        "print(1+1)"
      ],
      "execution_count": 2,
      "outputs": [
        {
          "output_type": "stream",
          "text": [
            "2\n"
          ],
          "name": "stdout"
        }
      ]
    },
    {
      "cell_type": "markdown",
      "metadata": {
        "id": "AfeKiRU2OfUE"
      },
      "source": [
        "#課後練習"
      ]
    },
    {
      "cell_type": "markdown",
      "metadata": {
        "id": "SpJz4w4SOqGT"
      },
      "source": [
        "#####從一則新聞報導，提出你對新聞系（OO系）學生為什麼要學「運算思維與程式設計」的見解。（告訴我新聞連結，以及你的觀點即可。）\r\n"
      ]
    },
    {
      "cell_type": "markdown",
      "metadata": {
        "id": "id98kcraRdzo"
      },
      "source": [
        "####身為新聞系，常常需要查證資料，數據可能有數萬筆，但當網頁不開放右鍵下載時，以手抄寫容易犯錯又耗時。\r\n",
        "如果學會寫程式與資料分析，就可以用程式語言Python將網路上的數據取出。而且，運用數據報導，除了能提升新聞準確度與增加報導信服力外，也能藉由資料視覺化的形式，讓文字無法精準描述的部分轉成互動圖表，幫助讀者快速地了解新聞。\r\n",
        "甚至將資訊處理與程式設計結合已經是新聞業轉型的趨勢，擁有相關能力的編輯及記者在業界會成為非常搶手的人才。學完這門課後，我希望能利用所學，將新聞與科學方法和數據分析結合；增加自己在職場的競爭力，做一個會寫程式、了解視覺設計、又懂採訪寫作的資訊記者。\r\n"
      ]
    },
    {
      "cell_type": "markdown",
      "metadata": {
        "id": "d91f0XywRGeq"
      },
      "source": [
        "######https://www.twreporter.org/a/opinion-data-journalist"
      ]
    },
    {
      "cell_type": "code",
      "metadata": {
        "id": "sETXPJ8VRLFw"
      },
      "source": [
        ""
      ],
      "execution_count": null,
      "outputs": []
    },
    {
      "cell_type": "markdown",
      "metadata": {
        "id": "zFKu5oseRcDI"
      },
      "source": [
        ""
      ]
    }
  ]
}