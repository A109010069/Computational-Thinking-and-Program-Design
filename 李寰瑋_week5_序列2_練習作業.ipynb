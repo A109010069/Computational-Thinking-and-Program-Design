{
  "nbformat": 4,
  "nbformat_minor": 0,
  "metadata": {
    "colab": {
      "name": "李寰瑋-week5-序列2-練習作業.ipynb",
      "provenance": [],
      "collapsed_sections": [],
      "include_colab_link": true
    },
    "kernelspec": {
      "display_name": "Python 3",
      "language": "python",
      "name": "python3"
    },
    "language_info": {
      "codemirror_mode": {
        "name": "ipython",
        "version": 3
      },
      "file_extension": ".py",
      "mimetype": "text/x-python",
      "name": "python",
      "nbconvert_exporter": "python",
      "pygments_lexer": "ipython3",
      "version": "3.8.5"
    }
  },
  "cells": [
    {
      "cell_type": "markdown",
      "metadata": {
        "id": "view-in-github",
        "colab_type": "text"
      },
      "source": [
        "<a href=\"https://colab.research.google.com/github/A109010069/Computational-Thinking-and-Program-Design/blob/main/%E6%9D%8E%E5%AF%B0%E7%91%8B_week5_%E5%BA%8F%E5%88%972_%E7%B7%B4%E7%BF%92%E4%BD%9C%E6%A5%AD.ipynb\" target=\"_parent\"><img src=\"https://colab.research.google.com/assets/colab-badge.svg\" alt=\"Open In Colab\"/></a>"
      ]
    },
    {
      "cell_type": "markdown",
      "metadata": {
        "id": "wnyrzAGjhGPU"
      },
      "source": [
        "# 序列主題（二）:數字與文字資料的操作"
      ]
    },
    {
      "cell_type": "markdown",
      "metadata": {
        "id": "qto0EG3Y2XVc"
      },
      "source": [
        "## I. 隨堂練習"
      ]
    },
    {
      "cell_type": "markdown",
      "metadata": {
        "id": "v8MMOAhg6FVQ"
      },
      "source": [
        "**1. 常見的兩種資料操作方式：運算式與函式。**"
      ]
    },
    {
      "cell_type": "markdown",
      "metadata": {
        "id": "lm6W6zVj1KuH"
      },
      "source": [
        "**2. 數字資料的運算：運算子**"
      ]
    },
    {
      "cell_type": "markdown",
      "metadata": {
        "id": "YJbEVgQ31P5e"
      },
      "source": [
        "(1)算術運算子"
      ]
    },
    {
      "cell_type": "markdown",
      "metadata": {
        "id": "6jKAOR-a1lWf",
        "outputId": "1e74cbfc-13f0-4a2e-a9ad-446fe20fd40c"
      },
      "source": [
        "```\n",
        ">>> 數字（一）算術運算子:直接運算\n",
        "\n",
        "In [1]: print(5 + 2)  # 加\n",
        "   ...: print(5 - 2)  # 減\n",
        "   ...: print(5 * 2)  # 乘\n",
        "   ...: print(5 / 2)  # 除\n",
        "   ...: print(5 ** 2) # 次方\n",
        "   ...: print(5 // 2) # 商\n",
        "   ...: print(5 % 2)  # 餘數\n",
        "   ...: \n",
        "   ...: # 浮點數是用二進位表示小數，和我們習慣的十進位表示不同。\n",
        "   ...: print(0.1 + 0.1 + 0.1)\n",
        " ```"
      ]
    },
    {
      "cell_type": "code",
      "metadata": {
        "id": "HAkbemeQ9M9r",
        "colab": {
          "base_uri": "https://localhost:8080/"
        },
        "outputId": "fd5787f2-df87-4be3-8225-9d4308999111"
      },
      "source": [
        "print(5 + 2) # 加\n",
        "print(5 - 2) # 減\n",
        "print(5 * 2) # 乘\n",
        "print(5 / 2) # 除\n",
        "print(5 ** 2) # 次方\n",
        "print(5 // 2) # 商\n",
        "print(5 % 2) # 餘數\n",
        "\n",
        "print(0.1 + 0.1 + 0.1) #浮點數"
      ],
      "execution_count": null,
      "outputs": [
        {
          "output_type": "stream",
          "text": [
            "7\n",
            "3\n",
            "10\n",
            "2.5\n",
            "25\n",
            "2\n",
            "1\n",
            "0.30000000000000004\n"
          ],
          "name": "stdout"
        }
      ]
    },
    {
      "cell_type": "markdown",
      "metadata": {
        "id": "dy_aEOk09M9s"
      },
      "source": [
        "```\n",
        ">>> 數字（一）算術運算子：變數運算\n",
        "In [2]: a = 11\n",
        "   ...: b = 3.8\n",
        "   ...: \n",
        "   ...: print(a + b)\n",
        "   ...: print(a - b)\n",
        "   ...: print(b * 2)\n",
        "   ...: print(b / 2)\n",
        "   ...: print(a % 3)\n",
        "   ...: print(a // 3)\n",
        "   ...: print(a ** 2)\n",
        "\n",
        "```"
      ]
    },
    {
      "cell_type": "code",
      "metadata": {
        "id": "ugS5v3l79M9s"
      },
      "source": [
        "a=11\n",
        "b=3.8\n",
        "\n",
        "print(a + b)\n",
        "print(a - b)\n",
        "print(b * 2)\n",
        "print(b / 2)\n",
        "print(a % 3)\n",
        "print(a // 3)\n",
        "print(a ** 2)\n"
      ],
      "execution_count": null,
      "outputs": []
    },
    {
      "cell_type": "markdown",
      "metadata": {
        "id": "9XT-DGYJ9M9t"
      },
      "source": [
        "```\n",
        ">>> 以input指令輸入資料後，若是要進行數學的運算，需要轉換資料類型\n",
        "\n",
        "In [3]: number = input(\"Enter a number: \")\n",
        "   ...: number + number\n",
        "\n",
        "Enter a number: 123.456\n",
        "Out[3]: '123.456123.456'\n",
        "```"
      ]
    },
    {
      "cell_type": "markdown",
      "metadata": {
        "id": "rjDADOF49M9t"
      },
      "source": [
        "```\n",
        ">>> 資料類型轉換\n",
        "\n",
        "In [4]: number = input(\"Enter a number: \")\n",
        "   ...: number = eval(number)\n",
        "   ...: number + number\n",
        "\n",
        "Enter a number: 123.456\n",
        "Out[4]: 246.912\n",
        "\n",
        "```"
      ]
    },
    {
      "cell_type": "code",
      "metadata": {
        "id": "PK7pdLOV9M9t"
      },
      "source": [
        ""
      ],
      "execution_count": null,
      "outputs": []
    },
    {
      "cell_type": "markdown",
      "metadata": {
        "id": "QBvMjHSa2gZT"
      },
      "source": [
        "**自由練習1：簡便計算器**\n",
        "\n",
        "輸入兩個整數，就可以計算出七種數學運算結果。"
      ]
    },
    {
      "cell_type": "markdown",
      "metadata": {
        "id": "CS_M1IOa2zE8",
        "outputId": "b89ff2c5-abab-47fa-f6da-08b0229d6c32"
      },
      "source": [
        "```\n",
        ">>> 參考程式\n",
        "\n",
        "a = eval(input(\"請輸入一個數字a = ：\"))\n",
        "b = eval(input(\"請輸入一個數字b = : \"))\n",
        "\n",
        "print(a + b)\n",
        "print(a - b)\n",
        "print(a * b)\n",
        "print(a / b)\n",
        "print(a ** b)\n",
        "print(a // b)\n",
        "print(a % b)\n",
        "```"
      ]
    },
    {
      "cell_type": "code",
      "metadata": {
        "id": "jVgvUc_d9M9u"
      },
      "source": [
        ""
      ],
      "execution_count": null,
      "outputs": []
    },
    {
      "cell_type": "markdown",
      "metadata": {
        "id": "RKmhILCF3hEx"
      },
      "source": [
        "(2)算術賦值運算子"
      ]
    },
    {
      "cell_type": "markdown",
      "metadata": {
        "id": "6FK9zgh73nDl",
        "outputId": "418b449c-7f15-4b99-e704-707a57ccd9f4"
      },
      "source": [
        "```\n",
        ">>> 數字（二）算術指定運算字\n",
        "\n",
        "In [5]: \n",
        "   ...: a = 5\n",
        "   ...: a = a + 2\n",
        "   ...: print(a)\n",
        "   ...: \n",
        "   ...: a += 2  # a = a + 2\n",
        "   ...: print(a)\n",
        "   ...: \n",
        "   ...: a -= 2  # a = a - 2\n",
        "   ...: print(a)\n",
        "   ...: \n",
        "   ...: a *= 2 # a = a * 2\n",
        "   ...: print(a)\n",
        "   ...: \n",
        "   ...: a /= 2 # a = a / 2\n",
        "   ...: print(a)\n",
        "   ...: \n",
        "   ...: a //= 2 # a = a // 2\n",
        "   ...: print(a)\n",
        "   ...: \n",
        "   ...: a %= 2 # a = a % 2\n",
        "   ...: print(a)\n",
        "   ...: \n",
        "   ...: a **= 2 # a = a**2\n",
        "   ...: print(a)\n",
        "   ```"
      ]
    },
    {
      "cell_type": "code",
      "metadata": {
        "id": "oaVngW8d9M9v"
      },
      "source": [
        ""
      ],
      "execution_count": null,
      "outputs": []
    },
    {
      "cell_type": "markdown",
      "metadata": {
        "id": "W9d2FCfT4LWF"
      },
      "source": [
        "(3) 運算的優先順序"
      ]
    },
    {
      "cell_type": "markdown",
      "metadata": {
        "id": "Mn9Hrxfl9M9v"
      },
      "source": [
        "```\n",
        ">>> 數字（三）運算的優先順序，不用背。\n",
        "\n",
        "In [6]: print(23 + 32 * 4)\n",
        "   ...: \n",
        "   ...: # 數學上，大中小括號都具有數學運算的優先權，但Python不是\n",
        "   ...: ## 小括號，具有數學運算的優先全\n",
        "   ...: print((23 + 32) * 4)\n",
        "   ...: ## 中括號，23 + 32被視為文字的運算\n",
        "   ...: print([23 + 32] * 4) \n",
        "   ...: ## 大括號，顯示錯誤訊息\n",
        "   ...: print({23 + 32} * 4)\n",
        "```    "
      ]
    },
    {
      "cell_type": "code",
      "metadata": {
        "id": "pFqpXU2q9M9w"
      },
      "source": [
        ""
      ],
      "execution_count": null,
      "outputs": []
    },
    {
      "cell_type": "markdown",
      "metadata": {
        "id": "AXjUvsYa9M9w"
      },
      "source": [
        "**自由練習2：PEMDAS運算**\n",
        "\n",
        "請創立一個名為magic_number的變數，指派一個特殊計算式使其值等於333。\n",
        "\n",
        "(1)特殊計算式滿足兩點要求：(A)至少使用`**運算子`一次。"
      ]
    },
    {
      "cell_type": "code",
      "metadata": {
        "id": "4asMoYTk9M9w"
      },
      "source": [
        ""
      ],
      "execution_count": null,
      "outputs": []
    },
    {
      "cell_type": "markdown",
      "metadata": {
        "id": "m6xy3oay9M9w"
      },
      "source": [
        "**隨堂練習2: 國軍定義的危險係數公式如下，依照危險係數來判斷是否能外出操課。**\n",
        "\n",
        "危險係數  = 室外攝氏溫度 + 室外相對濕度(%) * 0.1\n",
        "\n",
        "(1)若室外溫度為攝氏32度，室外相對濕度為70％，請輸出相對應的危險係數。\n",
        "\n",
        "(2)請輸入室外溫度、輸入室外相對濕度後，輸出相對應的危險係數。\n"
      ]
    },
    {
      "cell_type": "code",
      "metadata": {
        "id": "zl5NeCSK9M9w"
      },
      "source": [
        ""
      ],
      "execution_count": null,
      "outputs": []
    },
    {
      "cell_type": "markdown",
      "metadata": {
        "id": "yIt6_T_856xM"
      },
      "source": [
        "**3. 數字資料的運算:函式**"
      ]
    },
    {
      "cell_type": "markdown",
      "metadata": {
        "id": "MHywoP6p9M9x"
      },
      "source": [
        "```\n",
        ">>> 數字：內建函數\n",
        "\n",
        "In  [9]: \n",
        "    ...: a = -2\n",
        "    ...: print(abs(a))             # 絕對值\n",
        "    ...: print(abs(-10))\n",
        "    ...: \n",
        "    ...: print(max(1, 2, 3, 4, 5)) # 極大值\n",
        "    ...: print(min(1, 2, 3, 4, 5)) # 極小值\n",
        "    ...: print(pow(2, 3))          # 次方 pow(a,b)為a的b次方\n",
        "    ...: print(round(5.8))         # 四捨五入\n",
        "    ...: print(round(3.14159, 2))  # 取小數點兩位死捨五入\n",
        "```    "
      ]
    },
    {
      "cell_type": "code",
      "metadata": {
        "id": "5Nxlk4Qk9M9x"
      },
      "source": [
        ""
      ],
      "execution_count": null,
      "outputs": []
    },
    {
      "cell_type": "markdown",
      "metadata": {
        "id": "jKqTdi4r9ycD"
      },
      "source": [
        "**4.文字資料的運算：運算子**"
      ]
    },
    {
      "cell_type": "markdown",
      "metadata": {
        "id": "TSTxK1_B9M9y"
      },
      "source": [
        "```\n",
        ">>> 字串連接\n",
        "\n",
        "In [1 ]:\n",
        "    ...: s1 =\"123\"\n",
        "    ...: s2 = \"456\"\n",
        "    ...: s3 = s1 + s2\n",
        "    ...: print(s3)\n",
        "    ...: \n",
        "    ...: # 複製字串\n",
        "    ...: s4 = s1 * 2\n",
        "    ...: print(s4)\n",
        "\n",
        "```"
      ]
    },
    {
      "cell_type": "code",
      "metadata": {
        "id": "Sf-tH5Zn9M9y"
      },
      "source": [
        ""
      ],
      "execution_count": null,
      "outputs": []
    },
    {
      "cell_type": "markdown",
      "metadata": {
        "id": "Qr6DqqWs-dig"
      },
      "source": [
        "#### 範例練習4-1： 真心話大冒險\n",
        "\n",
        "**玩家回答程序提出的問題，程序負責將玩家的回答連接，並重複3次輸出。**"
      ]
    },
    {
      "cell_type": "markdown",
      "metadata": {
        "id": "94D4PSnL9M9y"
      },
      "source": [
        "```\n",
        "## 參考程式\n",
        "\n",
        ">>> str1 = input(\"你生命中最重要的是： \")\n",
        ">>> str2 = input(\"你想對它說的是： \")\n",
        ">>> print((str1 + str2 +\"!\")*3)\n",
        "\n",
        "你生命中最重要的是： 程式語言\n",
        "你想對它說的是： 我們相見恨晚\n",
        "程式語言我們相見恨晚!程式語言我們相見恨晚!程式語言我們相見恨晚!\n",
        "```"
      ]
    },
    {
      "cell_type": "code",
      "metadata": {
        "id": "jFU3I0tx9M9z"
      },
      "source": [
        ""
      ],
      "execution_count": null,
      "outputs": []
    },
    {
      "cell_type": "markdown",
      "metadata": {
        "id": "7leF4Y0f5vL4"
      },
      "source": [
        " **加分練習**\n",
        "\n",
        "選擇題"
      ]
    },
    {
      "cell_type": "markdown",
      "metadata": {
        "id": "g4I4EI7N9M9z"
      },
      "source": [
        "1. 在 Python程式語言中，若a = \"12\"、b=\"34\"，則 print(a+b)結果為何？\n",
        "(A) 46　 (B) 56　 (C) 1234　 (D) 以上皆否。\n",
        "\n",
        "2.\t假設利用 num = input() 輸入10，再執行 a = num + 100，試問其a值為 (A) 110　(B) 120　(C) 130　(D) 產生錯誤訊息\n",
        "\n",
        "3. 下列何者代表 Python 的註解？　(A) //　(B) #　(C) /`*`　(D)@。\n",
        "\n",
        "4. 在 Python 程式語言中，若 a = \"12\"，則 print(a*2) 結果為？   (A) 24　 (B) 1212　 (C) 122　 (D) 以上皆否。 \n",
        "\n",
        "5. 在 Python 程式語言中，若 a = 13，則 print(a // 5) 結果為？   (A) 2　 (B) 3　 (C) 4　 (D) 以上皆否。 \n",
        "\n",
        "6. 在 Python 程式語言中，若 a = 12，則 print(a**2) 結果為？  (A) 122 (B) 144 (C) 1212 (D) 以上皆否。 \n",
        "\n",
        "7. 在 Python 程式語言中，若 a = 13，則 print(a % 5) 結果為？   (A) 2 (B) 3 (C) 4 (D) 以上皆否。 \n",
        "\n",
        "8.  執行 print((3 ** 2 + 4 ** 2) * 5) 結果為？  (A) 100 (B) 120 (C) 125 (D) 130。  \n",
        "\n",
        "9.\t有 一敘述a = 5/2 + 5//2 + 2`**`3 + 5%2，試問 a  的值為何?\n",
        "(A) 13.5　(B) 14　(C) 14.5　(D) 15\n",
        "\n",
        "10.\t試問下列哪一個為偽?\n",
        "(A)  a = a + 1和 a += 1具有一樣的功能。\n",
        "(B)  a =+ 1 表示 a = a +1。\n",
        "(C)  若 a = 5，則 a //= 2，最後的a為2。\n",
        "(D)  a, b = 100, 200，表示a為100，b為200，即可以指定多個變數。\n",
        "\n",
        "11.\t試問下列敘述何者為偽?\n",
        "(A) 運算子是一符號，其具有特定的功能。\n",
        "(B) 運算子 =，表示指定的意思，和數學的相等是不一樣的。\n",
        "(C)  運算子 //，表示整數除法，亦即 9 // 2，其結果為4。\n",
        "(D)  a = a + 1和 a++的結果是一樣的。\n",
        "\n",
        "12.\t若有下列敘述\n",
        "a, b = eval(input())\n",
        "total = a + b * 2 / 100 – 4\n",
        "print(total)\n",
        "執行時以 100，200加以輸入，則最後的輸出結果為(A) 102　(B) 100.0　(C) 2　(D) 3   "
      ]
    },
    {
      "cell_type": "markdown",
      "metadata": {
        "id": "J12ARVNX9ssf"
      },
      "source": [
        "**5. 應用練習**"
      ]
    },
    {
      "cell_type": "markdown",
      "metadata": {
        "id": "6AwUda3ZhsZG"
      },
      "source": [
        "#### 範例練習5-1： 計算圓面積與圓周長\n",
        "\n",
        "**請設計一個程式計算圓面積與圓周長，依輸入的半徑計算圓面積與圓周長。**"
      ]
    },
    {
      "cell_type": "markdown",
      "metadata": {
        "id": "Dy_cti-W7RL9"
      },
      "source": [
        "```\n",
        ">>> 解題想法\n",
        "\n",
        "將圓的半徑儲存到變數，再依照圓面積與圓周長公式進行運算，計算結果儲存到變數「圓周長」與「圓面積」，最後列印結果。\n",
        "\n",
        "～給我半徑、用公式計算圓面積與周長\n",
        "\n",
        "## Input\n",
        "radius = float(input('請輸入半徑？'))\n",
        "PI = 3.14159\n",
        "\n",
        "## Process\n",
        "circumference = 2 * PI * radius\n",
        "area = radius * radius * PI\n",
        "\n",
        "## Output\n",
        "print(f'圓周長為 {circumference}， 圓面積為 {area}。')\n",
        "```"
      ]
    },
    {
      "cell_type": "code",
      "metadata": {
        "id": "oslnrnu19M90"
      },
      "source": [
        ""
      ],
      "execution_count": null,
      "outputs": []
    },
    {
      "cell_type": "markdown",
      "metadata": {
        "id": "vaIImd7j7uol"
      },
      "source": [
        "#### 範例練習5-2： 攝氏轉華氏\n",
        "\n",
        "**請設計一個程式將輸入的攝氏溫度轉成華氏溫度，轉換公式如下:華氏溫度= 攝氏溫度*9/5+32**"
      ]
    },
    {
      "cell_type": "markdown",
      "metadata": {
        "id": "E7C8nINK70sJ"
      },
      "source": [
        "```\n",
        ">>> 解題想法\n",
        "\n",
        "將攝氏溫度儲存到浮點數變數，再依照攝氏溫度轉華氏溫度公式進行運算，將計算結果儲存到另一個浮點數變數。本題會使用到運算子的加法(+)、乘法(`*`)、除法(/) 與指定運算子(=)。\n",
        "\n",
        "c = float(input('請輸入攝氏溫度？'))\n",
        "\n",
        "f = c * 9/5 + 32\n",
        "print('華氏溫度為', f)\n",
        "\n",
        "# 延伸1：華氏轉攝氏\n",
        "c1 = (f - 32) * (5/9)\n",
        "print(\"攝氏溫度\", c1)\n",
        "```"
      ]
    },
    {
      "cell_type": "code",
      "metadata": {
        "id": "R0GS9xV09M91"
      },
      "source": [
        ""
      ],
      "execution_count": null,
      "outputs": []
    },
    {
      "cell_type": "markdown",
      "metadata": {
        "id": "dvQ1D7QQ8F-q"
      },
      "source": [
        "#### 範例練習5-3:  服裝訂購系統\n",
        "\n",
        "**假設上衣300元、褲子350元與背心400元，使用者可以自行輸入三種服裝的數量，請設計一個程式計算訂購服裝的總金額。**"
      ]
    },
    {
      "cell_type": "markdown",
      "metadata": {
        "id": "We8F6NbU8IWS"
      },
      "source": [
        "```\n",
        ">>> 解題想法\n",
        "將上衣、褲子與背心訂購數量依序指定到三個整數變數中，乘以對應價格，再加總起來。\n",
        "本題會使用到運算子的乘法(`*`)、加法(+) 與指定運算子(=)。\n",
        "\n",
        "# Total = P1*Q1 + P2*Q2 + P3*Q3\n",
        "\n",
        "## Input Data\n",
        "cloth = int(input('請輸入上衣數量？')) \n",
        "trousers = int(input('請輸入褲子數量？'))\n",
        "vest = int(input('請輸入背心數量？'))\n",
        "\n",
        "## Process\n",
        "total = cloth*300 + trousers*350 + vest*400\n",
        "\n",
        "## Output\n",
        "print('訂購服裝的總金額為', total)\n",
        "```"
      ]
    },
    {
      "cell_type": "code",
      "metadata": {
        "id": "n1Yk1msI9M92"
      },
      "source": [
        ""
      ],
      "execution_count": null,
      "outputs": []
    },
    {
      "cell_type": "markdown",
      "metadata": {
        "id": "ZKF1NoK98e53"
      },
      "source": [
        "####  範例練習5-4: 賣場買飲料\n",
        "\n",
        "**為了刺激銷售量，賣場通常買一打會比買一罐便宜，假設一罐賣20元，一打賣200元，請設計一個程式計算買幾罐需花多少錢，若不足一打就個別買。**\n",
        "\n",
        "～預覽結果\n",
        "輸入購買飲料的罐數，如「30」，計算結果顯示在螢幕如下。\n",
        "請輸入購買飲料的罐數？30\n",
        "需花費 520"
      ]
    },
    {
      "cell_type": "markdown",
      "metadata": {
        "id": "TLPe-VIP8j4D"
      },
      "source": [
        "```\n",
        ">>> 解題想法\n",
        "\n",
        "# Total = 200 * 幾打 ＋ 20 ＊ 罐\n",
        "\n",
        "## Input Data\n",
        "cans = int(input('請輸入購買飲料的罐數？')) #數字轉文字\n",
        "\n",
        "## Process\n",
        "total = (cans//12)*200 + (cans%12)*20\n",
        "\n",
        "## Output\n",
        "print('需花費', total)\n",
        "```"
      ]
    },
    {
      "cell_type": "code",
      "metadata": {
        "id": "zn0BQkJu9M92"
      },
      "source": [
        ""
      ],
      "execution_count": null,
      "outputs": []
    },
    {
      "cell_type": "markdown",
      "metadata": {
        "id": "KdcxB9h28zYU"
      },
      "source": [
        "#### 範例練習5-5：求三數總和與平均\n",
        "\n",
        "**求第一次期中考、第二次期中考與期末考成績，成績皆為整數，請計算分數的加總與平均。**\n",
        "\n",
        "～預覽結果\n",
        "\n",
        "第一次期中考輸入「75」，第二次期中考輸入「80」，期末考輸入「65」，計算結果顯示在螢幕。\n",
        "\n",
        "請輸入第一次期中考成績？75\n",
        "\n",
        "請輸入第二次期中考成績？80\n",
        "\n",
        "請輸入期末考成績？65\n",
        "\n",
        "總分為 220 平均為 73.33333333333333"
      ]
    },
    {
      "cell_type": "markdown",
      "metadata": {
        "id": "_cjPDJYs8_3m"
      },
      "source": [
        "```\n",
        ">>> 解題想法\n",
        "\n",
        "# 計算三次成績的總和與平均\n",
        "\n",
        "## Input Data\n",
        "first = int(input('請輸入第一次期中考成績？'))\n",
        "second = int(input('請輸入第二次期中考成績？'))\n",
        "final = int(input('請輸入期末考成績？'))\n",
        "\n",
        "## Process\n",
        "sum = first + second + final\n",
        "average = sum/3\n",
        "\n",
        "## Output\n",
        "print('總分為', sum, '平均為', average)\n",
        "```"
      ]
    },
    {
      "cell_type": "code",
      "metadata": {
        "id": "ZMduvhPM9M93"
      },
      "source": [
        ""
      ],
      "execution_count": null,
      "outputs": []
    },
    {
      "cell_type": "markdown",
      "metadata": {
        "id": "MM_K13L9OGfY"
      },
      "source": [
        "## II. 練習作業"
      ]
    },
    {
      "cell_type": "markdown",
      "metadata": {
        "id": "LKZDuTpn7j0C"
      },
      "source": [
        "**練習1: 求圓環的面積**\n",
        "\n",
        "輸入外圓直徑r1與內圓直徑r2，求圓環面積。"
      ]
    },
    {
      "cell_type": "code",
      "metadata": {
        "id": "Ou9mypZc9M94"
      },
      "source": [
        ""
      ],
      "execution_count": null,
      "outputs": []
    },
    {
      "cell_type": "markdown",
      "metadata": {
        "id": "DFK5yibo8V9H"
      },
      "source": [
        "**練習2：BMI指數** \n",
        "\n",
        "請計算NBA 史上最偉大的中鋒之一，「柴油引擎」俠客歐尼爾（Shaquille O’Neal）巔峰時期的BMI。當時他的身高(216cm)與體重(147kg)，而其所對應的身體質量指數公式為BMI ＝ 公斤 / 公尺平方。"
      ]
    },
    {
      "cell_type": "code",
      "metadata": {
        "id": "FBBVlr7c9M94"
      },
      "source": [
        ""
      ],
      "execution_count": null,
      "outputs": []
    },
    {
      "cell_type": "markdown",
      "metadata": {
        "id": "poaWszTq_bGm"
      },
      "source": [
        "**練習3：長跑健將**\n",
        "\n",
        "梁小星很喜歡運動，每天都堅持跑步5公里，為此他還買了一個手環。觀看手環可以記錄步數、距離、速度、時間等數據。梁小星想用Python寫一個統計時間的程式，你可以幫幫他嗎？(06'32, 07'21, 05,51, 07'03, 05'48)"
      ]
    },
    {
      "cell_type": "code",
      "metadata": {
        "id": "KN5_VGTQ9M95"
      },
      "source": [
        ""
      ],
      "execution_count": null,
      "outputs": []
    },
    {
      "cell_type": "markdown",
      "metadata": {
        "id": "A9pzdZ_O_jYC"
      },
      "source": [
        "**練習4: : 統計人數**\n",
        "\n",
        "假期結束了，老師問班上同學們：誰在寒假裡看過『上陽賦』？有一半同學舉手。又問：誰看過『哲仁皇后』？有五分之二的同學舉手。老師發現，又7位同學兩部都看過。張小青去爺爺家，沒有網路，兩部劇都沒有看過。所以，他問老師：這兩部都沒看過的同學，要不要舉手讓您數一數呢？老師笑說：不用，我已經知道答案了。請問如果班上有50位同學，那麼多少人兩部都沒看過呢。"
      ]
    },
    {
      "cell_type": "code",
      "metadata": {
        "id": "c3YAhqWp9M95"
      },
      "source": [
        ""
      ],
      "execution_count": null,
      "outputs": []
    }
  ]
}